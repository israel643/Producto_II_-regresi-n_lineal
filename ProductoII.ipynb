{
 "cells": [
  {
   "cell_type": "code",
   "execution_count": 1,
   "id": "92debec1",
   "metadata": {},
   "outputs": [],
   "source": [
    "import numpy as np\n",
    "import pandas as pd \n",
    "import matplotlib.pyplot as mp\n",
    "from sklearn.model_selection import train_test_split\n",
    "from sklearn.linear_model import LinearRegression"
   ]
  },
  {
   "cell_type": "code",
   "execution_count": 2,
   "id": "319e6d9f",
   "metadata": {},
   "outputs": [],
   "source": [
    "reader = pd.read_csv(\"D:/Proyectos🏠/Jupyter/csv/Confirmados_20220718.csv\")"
   ]
  },
  {
   "cell_type": "code",
   "execution_count": 3,
   "id": "5ed7b2b9",
   "metadata": {},
   "outputs": [],
   "source": [
    "reader_ii = pd.read_csv(\"D:/Proyectos🏠/Jupyter/csv/Defunciones_20220718.csv\")"
   ]
  },
  {
   "cell_type": "code",
   "execution_count": 4,
   "id": "85f2be81",
   "metadata": {},
   "outputs": [
    {
     "data": {
      "text/html": [
       "<div>\n",
       "<style scoped>\n",
       "    .dataframe tbody tr th:only-of-type {\n",
       "        vertical-align: middle;\n",
       "    }\n",
       "\n",
       "    .dataframe tbody tr th {\n",
       "        vertical-align: top;\n",
       "    }\n",
       "\n",
       "    .dataframe thead th {\n",
       "        text-align: right;\n",
       "    }\n",
       "</style>\n",
       "<table border=\"1\" class=\"dataframe\">\n",
       "  <thead>\n",
       "    <tr style=\"text-align: right;\">\n",
       "      <th></th>\n",
       "      <th>cve_ent</th>\n",
       "      <th>poblacion</th>\n",
       "      <th>nombre</th>\n",
       "      <th>17-03-2020</th>\n",
       "      <th>18-03-2020</th>\n",
       "      <th>19-03-2020</th>\n",
       "      <th>20-03-2020</th>\n",
       "      <th>21-03-2020</th>\n",
       "      <th>22-03-2020</th>\n",
       "      <th>23-03-2020</th>\n",
       "      <th>...</th>\n",
       "      <th>08-07-2022</th>\n",
       "      <th>09-07-2022</th>\n",
       "      <th>10-07-2022</th>\n",
       "      <th>11-07-2022</th>\n",
       "      <th>12-07-2022</th>\n",
       "      <th>13-07-2022</th>\n",
       "      <th>14-07-2022</th>\n",
       "      <th>15-07-2022</th>\n",
       "      <th>16-07-2022</th>\n",
       "      <th>17-07-2022</th>\n",
       "    </tr>\n",
       "  </thead>\n",
       "  <tbody>\n",
       "    <tr>\n",
       "      <th>1</th>\n",
       "      <td>2</td>\n",
       "      <td>3634868</td>\n",
       "      <td>BAJA CALIFORNIA</td>\n",
       "      <td>0</td>\n",
       "      <td>0</td>\n",
       "      <td>0</td>\n",
       "      <td>0</td>\n",
       "      <td>0</td>\n",
       "      <td>0</td>\n",
       "      <td>0</td>\n",
       "      <td>...</td>\n",
       "      <td>0</td>\n",
       "      <td>1</td>\n",
       "      <td>1</td>\n",
       "      <td>0</td>\n",
       "      <td>1</td>\n",
       "      <td>0</td>\n",
       "      <td>1</td>\n",
       "      <td>0</td>\n",
       "      <td>0</td>\n",
       "      <td>0</td>\n",
       "    </tr>\n",
       "  </tbody>\n",
       "</table>\n",
       "<p>1 rows × 856 columns</p>\n",
       "</div>"
      ],
      "text/plain": [
       "   cve_ent  poblacion           nombre  17-03-2020  18-03-2020  19-03-2020  \\\n",
       "1        2    3634868  BAJA CALIFORNIA           0           0           0   \n",
       "\n",
       "   20-03-2020  21-03-2020  22-03-2020  23-03-2020  ...  08-07-2022  \\\n",
       "1           0           0           0           0  ...           0   \n",
       "\n",
       "   09-07-2022  10-07-2022  11-07-2022  12-07-2022  13-07-2022  14-07-2022  \\\n",
       "1           1           1           0           1           0           1   \n",
       "\n",
       "   15-07-2022  16-07-2022  17-07-2022  \n",
       "1           0           0           0  \n",
       "\n",
       "[1 rows x 856 columns]"
      ]
     },
     "execution_count": 4,
     "metadata": {},
     "output_type": "execute_result"
    }
   ],
   "source": [
    "defuncio = reader_ii[reader_ii[\"nombre\"] == \"BAJA CALIFORNIA\"]\n",
    "defuncio.shape\n",
    "defuncio"
   ]
  },
  {
   "cell_type": "code",
   "execution_count": 5,
   "id": "8b23eab7",
   "metadata": {},
   "outputs": [
    {
     "data": {
      "text/html": [
       "<div>\n",
       "<style scoped>\n",
       "    .dataframe tbody tr th:only-of-type {\n",
       "        vertical-align: middle;\n",
       "    }\n",
       "\n",
       "    .dataframe tbody tr th {\n",
       "        vertical-align: top;\n",
       "    }\n",
       "\n",
       "    .dataframe thead th {\n",
       "        text-align: right;\n",
       "    }\n",
       "</style>\n",
       "<table border=\"1\" class=\"dataframe\">\n",
       "  <thead>\n",
       "    <tr style=\"text-align: right;\">\n",
       "      <th></th>\n",
       "      <th>cve_ent</th>\n",
       "      <th>poblacion</th>\n",
       "      <th>nombre</th>\n",
       "      <th>26-02-2020</th>\n",
       "      <th>27-02-2020</th>\n",
       "      <th>28-02-2020</th>\n",
       "      <th>29-02-2020</th>\n",
       "      <th>01-03-2020</th>\n",
       "      <th>02-03-2020</th>\n",
       "      <th>03-03-2020</th>\n",
       "      <th>...</th>\n",
       "      <th>09-07-2022</th>\n",
       "      <th>10-07-2022</th>\n",
       "      <th>11-07-2022</th>\n",
       "      <th>12-07-2022</th>\n",
       "      <th>13-07-2022</th>\n",
       "      <th>14-07-2022</th>\n",
       "      <th>15-07-2022</th>\n",
       "      <th>16-07-2022</th>\n",
       "      <th>17-07-2022</th>\n",
       "      <th>18-07-2022</th>\n",
       "    </tr>\n",
       "  </thead>\n",
       "  <tbody>\n",
       "    <tr>\n",
       "      <th>1</th>\n",
       "      <td>2</td>\n",
       "      <td>3634868</td>\n",
       "      <td>BAJA CALIFORNIA</td>\n",
       "      <td>0</td>\n",
       "      <td>0</td>\n",
       "      <td>0</td>\n",
       "      <td>0</td>\n",
       "      <td>0</td>\n",
       "      <td>0</td>\n",
       "      <td>0</td>\n",
       "      <td>...</td>\n",
       "      <td>155</td>\n",
       "      <td>118</td>\n",
       "      <td>660</td>\n",
       "      <td>488</td>\n",
       "      <td>479</td>\n",
       "      <td>358</td>\n",
       "      <td>237</td>\n",
       "      <td>35</td>\n",
       "      <td>20</td>\n",
       "      <td>0</td>\n",
       "    </tr>\n",
       "  </tbody>\n",
       "</table>\n",
       "<p>1 rows × 877 columns</p>\n",
       "</div>"
      ],
      "text/plain": [
       "   cve_ent  poblacion           nombre  26-02-2020  27-02-2020  28-02-2020  \\\n",
       "1        2    3634868  BAJA CALIFORNIA           0           0           0   \n",
       "\n",
       "   29-02-2020  01-03-2020  02-03-2020  03-03-2020  ...  09-07-2022  \\\n",
       "1           0           0           0           0  ...         155   \n",
       "\n",
       "   10-07-2022  11-07-2022  12-07-2022  13-07-2022  14-07-2022  15-07-2022  \\\n",
       "1         118         660         488         479         358         237   \n",
       "\n",
       "   16-07-2022  17-07-2022  18-07-2022  \n",
       "1          35          20           0  \n",
       "\n",
       "[1 rows x 877 columns]"
      ]
     },
     "execution_count": 5,
     "metadata": {},
     "output_type": "execute_result"
    }
   ],
   "source": [
    "filters= reader[reader[\"nombre\"] == \"BAJA CALIFORNIA\"]\n",
    "filters.shape\n",
    "filters"
   ]
  },
  {
   "cell_type": "code",
   "execution_count": 6,
   "id": "bcf02f8b",
   "metadata": {},
   "outputs": [],
   "source": [
    "z = reader_ii.columns[15:].values"
   ]
  },
  {
   "cell_type": "code",
   "execution_count": 7,
   "id": "9677ee16",
   "metadata": {},
   "outputs": [],
   "source": [
    "xi = reader_ii.iloc[2,15:].values"
   ]
  },
  {
   "cell_type": "code",
   "execution_count": 8,
   "id": "2dfbc226",
   "metadata": {},
   "outputs": [],
   "source": [
    "x= reader.columns[23:].values"
   ]
  },
  {
   "cell_type": "code",
   "execution_count": 9,
   "id": "f6fad2cd",
   "metadata": {},
   "outputs": [],
   "source": [
    "y= reader.iloc[2,23:].values\n"
   ]
  },
  {
   "cell_type": "code",
   "execution_count": 10,
   "id": "5929229f",
   "metadata": {},
   "outputs": [],
   "source": [
    "x=np.array(range(0,854))\n"
   ]
  },
  {
   "cell_type": "code",
   "execution_count": 11,
   "id": "6e61eaf5",
   "metadata": {},
   "outputs": [],
   "source": [
    "z=np.array(range(0,841))"
   ]
  },
  {
   "cell_type": "code",
   "execution_count": 12,
   "id": "9e6975ca",
   "metadata": {},
   "outputs": [],
   "source": [
    "z_train, z_test,xi_train, xi_test= train_test_split(z,xi,test_size = 0.2, random_state = 0)"
   ]
  },
  {
   "cell_type": "code",
   "execution_count": 13,
   "id": "5859067c",
   "metadata": {},
   "outputs": [],
   "source": [
    "x_train, x_test,y_train, y_test= train_test_split(x,y,test_size = 0.2, random_state = 0)"
   ]
  },
  {
   "cell_type": "code",
   "execution_count": 16,
   "id": "9bd6fddb",
   "metadata": {},
   "outputs": [],
   "source": [
    "regressor=LinearRegression()"
   ]
  },
  {
   "cell_type": "code",
   "execution_count": 17,
   "id": "200f0858",
   "metadata": {},
   "outputs": [],
   "source": [
    "regressorz=LinearRegression()"
   ]
  },
  {
   "cell_type": "code",
   "execution_count": 18,
   "id": "fc5cdc5b",
   "metadata": {},
   "outputs": [],
   "source": [
    "x_train = x_train.reshape(-1, 1)\n",
    "y_train = y_train.reshape(-1, 1)\n",
    "x_test = x_test.reshape(-1, 1)\n",
    "y_test = y_test.reshape(-1, 1)\n",
    "z_train = z_train.reshape(-1, 1)\n",
    "xi_train = xi_train.reshape(-1, 1)\n",
    "z_test = z_test.reshape(-1, 1)\n",
    "xi_test = xi_test.reshape(-1, 1)"
   ]
  },
  {
   "cell_type": "code",
   "execution_count": 19,
   "id": "5c9c414d",
   "metadata": {},
   "outputs": [
    {
     "data": {
      "text/html": [
       "<style>#sk-container-id-1 {color: black;background-color: white;}#sk-container-id-1 pre{padding: 0;}#sk-container-id-1 div.sk-toggleable {background-color: white;}#sk-container-id-1 label.sk-toggleable__label {cursor: pointer;display: block;width: 100%;margin-bottom: 0;padding: 0.3em;box-sizing: border-box;text-align: center;}#sk-container-id-1 label.sk-toggleable__label-arrow:before {content: \"▸\";float: left;margin-right: 0.25em;color: #696969;}#sk-container-id-1 label.sk-toggleable__label-arrow:hover:before {color: black;}#sk-container-id-1 div.sk-estimator:hover label.sk-toggleable__label-arrow:before {color: black;}#sk-container-id-1 div.sk-toggleable__content {max-height: 0;max-width: 0;overflow: hidden;text-align: left;background-color: #f0f8ff;}#sk-container-id-1 div.sk-toggleable__content pre {margin: 0.2em;color: black;border-radius: 0.25em;background-color: #f0f8ff;}#sk-container-id-1 input.sk-toggleable__control:checked~div.sk-toggleable__content {max-height: 200px;max-width: 100%;overflow: auto;}#sk-container-id-1 input.sk-toggleable__control:checked~label.sk-toggleable__label-arrow:before {content: \"▾\";}#sk-container-id-1 div.sk-estimator input.sk-toggleable__control:checked~label.sk-toggleable__label {background-color: #d4ebff;}#sk-container-id-1 div.sk-label input.sk-toggleable__control:checked~label.sk-toggleable__label {background-color: #d4ebff;}#sk-container-id-1 input.sk-hidden--visually {border: 0;clip: rect(1px 1px 1px 1px);clip: rect(1px, 1px, 1px, 1px);height: 1px;margin: -1px;overflow: hidden;padding: 0;position: absolute;width: 1px;}#sk-container-id-1 div.sk-estimator {font-family: monospace;background-color: #f0f8ff;border: 1px dotted black;border-radius: 0.25em;box-sizing: border-box;margin-bottom: 0.5em;}#sk-container-id-1 div.sk-estimator:hover {background-color: #d4ebff;}#sk-container-id-1 div.sk-parallel-item::after {content: \"\";width: 100%;border-bottom: 1px solid gray;flex-grow: 1;}#sk-container-id-1 div.sk-label:hover label.sk-toggleable__label {background-color: #d4ebff;}#sk-container-id-1 div.sk-serial::before {content: \"\";position: absolute;border-left: 1px solid gray;box-sizing: border-box;top: 0;bottom: 0;left: 50%;z-index: 0;}#sk-container-id-1 div.sk-serial {display: flex;flex-direction: column;align-items: center;background-color: white;padding-right: 0.2em;padding-left: 0.2em;position: relative;}#sk-container-id-1 div.sk-item {position: relative;z-index: 1;}#sk-container-id-1 div.sk-parallel {display: flex;align-items: stretch;justify-content: center;background-color: white;position: relative;}#sk-container-id-1 div.sk-item::before, #sk-container-id-1 div.sk-parallel-item::before {content: \"\";position: absolute;border-left: 1px solid gray;box-sizing: border-box;top: 0;bottom: 0;left: 50%;z-index: -1;}#sk-container-id-1 div.sk-parallel-item {display: flex;flex-direction: column;z-index: 1;position: relative;background-color: white;}#sk-container-id-1 div.sk-parallel-item:first-child::after {align-self: flex-end;width: 50%;}#sk-container-id-1 div.sk-parallel-item:last-child::after {align-self: flex-start;width: 50%;}#sk-container-id-1 div.sk-parallel-item:only-child::after {width: 0;}#sk-container-id-1 div.sk-dashed-wrapped {border: 1px dashed gray;margin: 0 0.4em 0.5em 0.4em;box-sizing: border-box;padding-bottom: 0.4em;background-color: white;}#sk-container-id-1 div.sk-label label {font-family: monospace;font-weight: bold;display: inline-block;line-height: 1.2em;}#sk-container-id-1 div.sk-label-container {text-align: center;}#sk-container-id-1 div.sk-container {/* jupyter's `normalize.less` sets `[hidden] { display: none; }` but bootstrap.min.css set `[hidden] { display: none !important; }` so we also need the `!important` here to be able to override the default hidden behavior on the sphinx rendered scikit-learn.org. See: https://github.com/scikit-learn/scikit-learn/issues/21755 */display: inline-block !important;position: relative;}#sk-container-id-1 div.sk-text-repr-fallback {display: none;}</style><div id=\"sk-container-id-1\" class=\"sk-top-container\"><div class=\"sk-text-repr-fallback\"><pre>LinearRegression()</pre><b>In a Jupyter environment, please rerun this cell to show the HTML representation or trust the notebook. <br />On GitHub, the HTML representation is unable to render, please try loading this page with nbviewer.org.</b></div><div class=\"sk-container\" hidden><div class=\"sk-item\"><div class=\"sk-estimator sk-toggleable\"><input class=\"sk-toggleable__control sk-hidden--visually\" id=\"sk-estimator-id-1\" type=\"checkbox\" checked><label for=\"sk-estimator-id-1\" class=\"sk-toggleable__label sk-toggleable__label-arrow\">LinearRegression</label><div class=\"sk-toggleable__content\"><pre>LinearRegression()</pre></div></div></div></div></div>"
      ],
      "text/plain": [
       "LinearRegression()"
      ]
     },
     "execution_count": 19,
     "metadata": {},
     "output_type": "execute_result"
    }
   ],
   "source": [
    "regressor.fit(x_train , y_train)\n",
    "regressorz.fit(z_train , xi_train)"
   ]
  },
  {
   "cell_type": "code",
   "execution_count": 22,
   "id": "3cf1170a",
   "metadata": {},
   "outputs": [
    {
     "data": {
      "image/png": "[encoded data removed]",
      "text/plain": [
       "<Figure size 432x288 with 1 Axes>"
      ]
     },
     "metadata": {
      "needs_background": "light"
     },
     "output_type": "display_data"
    }
   ],
   "source": [
    "mp.scatter(x_train, y_train, color='blue')\n",
    "mp.plot(x_train, regressor.predict(x_train),color='red')\n",
    "mp.plot(x_train,regressor.predict(x_train),color=\"red\")\n",
    "mp.title('Baja California')\n",
    "mp.suptitle(\"Covid-19\")\n",
    "mp.ylabel('confirmados')\n",
    "mp.xlabel('días')\n",
    "#formato de la Grid \n",
    "mp.rcParams[\"axes.grid\"] = True\n",
    "mp.rcParams['grid.linestyle'] = '--'\n",
    "mp.rcParams['grid.linewidth'] = 1\n",
    "mp.rcParams[\"axes.grid.axis\"] = 'y'\n",
    "mp.rcParams[\"grid.color\"] = \"#404040\""
   ]
  },
  {
   "cell_type": "code",
   "execution_count": 23,
   "id": "f11a0119",
   "metadata": {},
   "outputs": [
    {
     "data": {
      "image/png": "[encoded data removed]",
      "text/plain": [
       "<Figure size 432x288 with 1 Axes>"
      ]
     },
     "metadata": {
      "needs_background": "light"
     },
     "output_type": "display_data"
    }
   ],
   "source": [
    "mp.scatter(z_train, xi_train, color='green')\n",
    "mp.plot(z_train, regressor.predict(z_train),color='red')\n",
    "mp.plot(z_train,regressor.predict(z_train),color=\"blue\")\n",
    "mp.title('Baja California')\n",
    "mp.suptitle(\"Covid-19\")\n",
    "mp.ylabel('Defunciones')\n",
    "mp.xlabel('días')\n",
    "#formato de la Grid \n",
    "mp.rcParams[\"axes.grid\"] = True\n",
    "mp.rcParams['grid.linestyle'] = '--'\n",
    "mp.rcParams['grid.linewidth'] = 1\n",
    "mp.rcParams[\"axes.grid.axis\"] = 'y'\n",
    "mp.rcParams[\"grid.color\"] = \"#404040\""
   ]
  }
 ],
 "metadata": {
  "kernelspec": {
   "display_name": "Python 3 (ipykernel)",
   "language": "python",
   "name": "python3"
  },
  "language_info": {
   "codemirror_mode": {
    "name": "ipython",
    "version": 3
   },
   "file_extension": ".py",
   "mimetype": "text/x-python",
   "name": "python",
   "nbconvert_exporter": "python",
   "pygments_lexer": "ipython3",
   "version": "3.10.5"
  }
 },
 "nbformat": 4,
 "nbformat_minor": 5
}
