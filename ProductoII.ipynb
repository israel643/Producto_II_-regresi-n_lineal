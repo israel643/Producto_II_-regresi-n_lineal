{
 "cells": [
  {
   "cell_type": "code",
   "execution_count": 1,
   "id": "92debec1",
   "metadata": {},
   "outputs": [],
   "source": [
    "import numpy as np\n",
    "import pandas as pd \n",
    "import matplotlib.pyplot as mp\n",
    "from sklearn.model_selection import train_test_split\n",
    "from sklearn.linear_model import LinearRegression"
   ]
  },
  {
   "cell_type": "code",
   "execution_count": 2,
   "id": "319e6d9f",
   "metadata": {},
   "outputs": [],
   "source": [
    "reader = pd.read_csv(\"D:/Proyectos🏠/Jupyter/csv/Confirmados_20220718.csv\")"
   ]
  },
  {
   "cell_type": "code",
   "execution_count": 3,
   "id": "8b23eab7",
   "metadata": {},
   "outputs": [
    {
     "data": {
      "text/plain": [
       "(1, 877)"
      ]
     },
     "execution_count": 3,
     "metadata": {},
     "output_type": "execute_result"
    }
   ],
   "source": [
    "filters= reader[reader[\"nombre\"] == \"BAJA CALIFORNIA\"]\n",
    "filters.shape"
   ]
  },
  {
   "cell_type": "code",
   "execution_count": 4,
   "id": "32a6cfd7",
   "metadata": {},
   "outputs": [
    {
     "data": {
      "text/html": [
       "<div>\n",
       "<style scoped>\n",
       "    .dataframe tbody tr th:only-of-type {\n",
       "        vertical-align: middle;\n",
       "    }\n",
       "\n",
       "    .dataframe tbody tr th {\n",
       "        vertical-align: top;\n",
       "    }\n",
       "\n",
       "    .dataframe thead th {\n",
       "        text-align: right;\n",
       "    }\n",
       "</style>\n",
       "<table border=\"1\" class=\"dataframe\">\n",
       "  <thead>\n",
       "    <tr style=\"text-align: right;\">\n",
       "      <th></th>\n",
       "      <th>cve_ent</th>\n",
       "      <th>poblacion</th>\n",
       "      <th>nombre</th>\n",
       "      <th>26-02-2020</th>\n",
       "      <th>27-02-2020</th>\n",
       "      <th>28-02-2020</th>\n",
       "      <th>29-02-2020</th>\n",
       "      <th>01-03-2020</th>\n",
       "      <th>02-03-2020</th>\n",
       "      <th>03-03-2020</th>\n",
       "      <th>...</th>\n",
       "      <th>09-07-2022</th>\n",
       "      <th>10-07-2022</th>\n",
       "      <th>11-07-2022</th>\n",
       "      <th>12-07-2022</th>\n",
       "      <th>13-07-2022</th>\n",
       "      <th>14-07-2022</th>\n",
       "      <th>15-07-2022</th>\n",
       "      <th>16-07-2022</th>\n",
       "      <th>17-07-2022</th>\n",
       "      <th>18-07-2022</th>\n",
       "    </tr>\n",
       "  </thead>\n",
       "  <tbody>\n",
       "    <tr>\n",
       "      <th>1</th>\n",
       "      <td>2</td>\n",
       "      <td>3634868</td>\n",
       "      <td>BAJA CALIFORNIA</td>\n",
       "      <td>0</td>\n",
       "      <td>0</td>\n",
       "      <td>0</td>\n",
       "      <td>0</td>\n",
       "      <td>0</td>\n",
       "      <td>0</td>\n",
       "      <td>0</td>\n",
       "      <td>...</td>\n",
       "      <td>155</td>\n",
       "      <td>118</td>\n",
       "      <td>660</td>\n",
       "      <td>488</td>\n",
       "      <td>479</td>\n",
       "      <td>358</td>\n",
       "      <td>237</td>\n",
       "      <td>35</td>\n",
       "      <td>20</td>\n",
       "      <td>0</td>\n",
       "    </tr>\n",
       "  </tbody>\n",
       "</table>\n",
       "<p>1 rows × 877 columns</p>\n",
       "</div>"
      ],
      "text/plain": [
       "   cve_ent  poblacion           nombre  26-02-2020  27-02-2020  28-02-2020  \\\n",
       "1        2    3634868  BAJA CALIFORNIA           0           0           0   \n",
       "\n",
       "   29-02-2020  01-03-2020  02-03-2020  03-03-2020  ...  09-07-2022  \\\n",
       "1           0           0           0           0  ...         155   \n",
       "\n",
       "   10-07-2022  11-07-2022  12-07-2022  13-07-2022  14-07-2022  15-07-2022  \\\n",
       "1         118         660         488         479         358         237   \n",
       "\n",
       "   16-07-2022  17-07-2022  18-07-2022  \n",
       "1          35          20           0  \n",
       "\n",
       "[1 rows x 877 columns]"
      ]
     },
     "execution_count": 4,
     "metadata": {},
     "output_type": "execute_result"
    }
   ],
   "source": [
    "filters"
   ]
  },
  {
   "cell_type": "code",
   "execution_count": 5,
   "id": "adc02eca",
   "metadata": {},
   "outputs": [
    {
     "data": {
      "text/plain": [
       "1    False\n",
       "dtype: bool"
      ]
     },
     "execution_count": 5,
     "metadata": {},
     "output_type": "execute_result"
    }
   ],
   "source": [
    "dupli = filters.duplicated()\n",
    "dupli"
   ]
  },
  {
   "cell_type": "code",
   "execution_count": 6,
   "id": "9918c0c4",
   "metadata": {},
   "outputs": [
    {
     "data": {
      "text/plain": [
       "<bound method NDFrame._add_numeric_operations.<locals>.sum of    cve_ent  poblacion  nombre  26-02-2020  27-02-2020  28-02-2020  29-02-2020  \\\n",
       "1    False      False   False       False       False       False       False   \n",
       "\n",
       "   01-03-2020  02-03-2020  03-03-2020  ...  09-07-2022  10-07-2022  \\\n",
       "1       False       False       False  ...       False       False   \n",
       "\n",
       "   11-07-2022  12-07-2022  13-07-2022  14-07-2022  15-07-2022  16-07-2022  \\\n",
       "1       False       False       False       False       False       False   \n",
       "\n",
       "   17-07-2022  18-07-2022  \n",
       "1       False       False  \n",
       "\n",
       "[1 rows x 877 columns]>"
      ]
     },
     "execution_count": 6,
     "metadata": {},
     "output_type": "execute_result"
    }
   ],
   "source": [
    "filters.isnull().sum"
   ]
  },
  {
   "cell_type": "code",
   "execution_count": 7,
   "id": "2dfbc226",
   "metadata": {},
   "outputs": [],
   "source": [
    "x= reader.columns[23:].values"
   ]
  },
  {
   "cell_type": "code",
   "execution_count": 8,
   "id": "f6fad2cd",
   "metadata": {},
   "outputs": [],
   "source": [
    "y= reader.iloc[2,23:].values\n"
   ]
  },
  {
   "cell_type": "code",
   "execution_count": 9,
   "id": "5929229f",
   "metadata": {},
   "outputs": [],
   "source": [
    "x=np.array(range(0,854))\n"
   ]
  },
  {
   "cell_type": "code",
   "execution_count": 10,
   "id": "5859067c",
   "metadata": {},
   "outputs": [],
   "source": [
    "x_train, x_test,y_train, y_test= train_test_split(x,y,test_size = 0.2, random_state = 0)"
   ]
  },
  {
   "cell_type": "code",
   "execution_count": 11,
   "id": "5c0ab622",
   "metadata": {},
   "outputs": [
    {
     "data": {
      "text/plain": [
       "array([406, 686, 122, 558, 167, 843, 345, 346,  10, 572,  68, 249, 696,\n",
       "       679, 230, 436, 454, 575,   2, 845, 294, 647, 692, 231, 154, 799,\n",
       "       788, 466, 278, 467, 772, 806, 499, 642, 255, 351,  71,  49, 748,\n",
       "       210, 780, 657, 116,  37, 776,  48, 258, 773, 790, 251, 356, 379,\n",
       "        76,  64, 682,  52, 630, 452, 279, 124, 651, 737,  34, 475, 706,\n",
       "       805, 118,  12, 157, 812, 252, 127, 240, 390, 235, 181, 669, 241,\n",
       "       264,  97, 596, 319, 549, 800, 818, 725, 363, 440, 668, 263,  17,\n",
       "       462, 293, 424, 529, 242, 372, 170, 187, 769, 439, 627, 695,  78,\n",
       "       477, 198, 815, 484, 495, 698,  21, 583, 615, 250, 243, 460,  35,\n",
       "        81, 159, 478, 428, 109, 728, 402,  92, 375, 645, 838, 839, 211,\n",
       "       391, 165, 238, 188, 795, 530, 582, 664, 710, 155, 628, 851, 687,\n",
       "       412,  66, 483, 418, 268, 161, 571, 367, 576, 833, 731, 501, 409,\n",
       "       532, 229, 840, 587, 337, 784, 220, 778, 485, 661, 757,  15, 245,\n",
       "       506,   6, 489, 685, 434, 104, 303, 625, 208, 302,  51,  90, 570,\n",
       "        22, 527, 218, 632, 739, 656, 205, 502, 190, 361, 566, 491, 194,\n",
       "       395, 760, 132, 233, 173, 178, 313, 315, 493, 824, 650, 206, 545,\n",
       "       817,  96, 573, 732, 425,  74,  89,  38, 179, 618,   0,  46, 171,\n",
       "       683, 481, 107, 458, 133, 542, 223, 635, 327, 408, 102, 601, 108,\n",
       "       213, 563, 413, 593, 246, 826, 523, 125, 135, 648, 518, 365, 693,\n",
       "       224,  26, 680, 548, 487, 604, 735, 443,   3, 134, 325, 355, 465,\n",
       "       186, 655, 295, 715, 678, 385, 553, 793, 836, 767, 427, 225, 701,\n",
       "       330, 369, 758, 332, 476, 419, 764, 586, 822, 811, 404, 415,  63,\n",
       "       580, 605, 360, 505, 646, 821, 112, 546, 749,  20,  65, 298, 126,\n",
       "       259, 531, 644, 667, 420, 752, 339, 384, 716, 137, 105,   7, 342,\n",
       "       435, 781, 309, 711, 417, 688, 727, 407, 185, 847, 353, 634, 153,\n",
       "        54,  30, 343, 759, 492, 100, 602, 724, 841, 237, 741,  56, 400,\n",
       "        60, 694, 473, 468, 588, 569, 504, 712, 300, 733, 567, 163, 336,\n",
       "        59, 702, 796, 490, 672, 449, 829, 437, 789, 761, 219, 578, 282,\n",
       "       348, 584,   4, 689, 463, 662, 561, 751, 517, 848, 534, 770, 276,\n",
       "       284, 470, 426, 281, 120, 849,  13, 852, 455, 814, 160, 831, 577,\n",
       "       612, 768, 195, 191, 536, 164, 106,  16, 609, 540, 329, 480, 498,\n",
       "       744, 405, 638,  93, 433,  83, 721, 665, 414, 832, 626, 624, 825,\n",
       "       322, 556, 357,  69, 514, 509, 340, 221, 792, 146, 289,  29, 114,\n",
       "       508, 691, 827, 176, 168, 347, 376, 652, 745, 729, 658, 189, 136,\n",
       "       446, 718, 254, 753, 290, 801, 844, 232,  33,  88,  44, 341,  61,\n",
       "       813, 199, 429, 641, 394, 297,  73, 393, 547, 579, 541, 730, 713,\n",
       "       762, 217, 539, 708, 623, 704, 421, 138, 212, 616, 720, 717, 740,\n",
       "       782, 234,  67,  24, 381, 216, 129, 349, 111, 166, 207, 438, 552,\n",
       "       274, 726, 591, 853, 525, 287, 469, 326, 121, 507, 228, 673, 595,\n",
       "       445, 117, 464,  25, 110, 149, 152, 528, 621, 461, 598, 139, 260,\n",
       "       323, 766, 248, 450, 410, 607,  19, 328, 296, 269, 226,  94, 515,\n",
       "       637, 280, 286, 589, 794, 444, 184, 371, 746, 830, 275, 816, 182,\n",
       "        32,  80, 307,  11,  43,  86,  36, 834,  58,  41, 411, 562, 209,\n",
       "       148, 594, 123, 574,  98, 377, 130, 699,  23, 743, 555, 370, 512,\n",
       "       383, 201, 368, 554, 610, 387, 292, 690, 256, 606, 197,  95, 820,\n",
       "       803, 169, 581, 305, 560, 373, 719, 227, 660, 143, 180, 131, 809,\n",
       "        47, 324, 203,  84, 633, 565, 611, 398,  91,  82, 430, 779, 119,\n",
       "       291,  57, 321, 257, 807, 442,  42, 617, 388, 335, 273, 756, 488,\n",
       "       550,  53, 798, 128,  28, 183, 459, 510, 675, 151, 244, 714, 543,\n",
       "       544, 639, 697, 265, 288, 423, 147, 659, 797, 823, 177,  99, 448,\n",
       "       431, 709, 755, 115, 777,  72, 537, 677, 837, 174,  87, 551, 486,\n",
       "       705, 314, 396, 600, 472,  70, 599, 804, 754, 277, 723,   9, 359,\n",
       "       707, 763, 835, 192, 629, 559, 684])"
      ]
     },
     "execution_count": 11,
     "metadata": {},
     "output_type": "execute_result"
    }
   ],
   "source": [
    "x_train"
   ]
  },
  {
   "cell_type": "code",
   "execution_count": 12,
   "id": "42480f23",
   "metadata": {},
   "outputs": [
    {
     "data": {
      "text/plain": [
       "array([70, 435, 90, 9, 129, 262, 86, 67, 4, 5, 9, 39, 250, 763, 86, 87,\n",
       "       402, 27, 0, 114, 277, 348, 129, 69, 138, 108, 7, 233, 26, 94, 18,\n",
       "       172, 265, 70, 75, 62, 21, 12, 30, 94, 21, 1510, 37, 9, 18, 7, 115,\n",
       "       10, 40, 102, 82, 74, 36, 17, 633, 9, 40, 146, 134, 39, 776, 33, 7,\n",
       "       426, 205, 180, 128, 2, 78, 212, 102, 115, 93, 14, 29, 99, 597, 65,\n",
       "       22, 31, 16, 64, 55, 99, 382, 18, 17, 153, 1473, 46, 16, 409, 211,\n",
       "       23, 36, 31, 75, 113, 19, 23, 56, 15, 268, 16, 413, 84, 292, 297,\n",
       "       85, 68, 24, 22, 63, 30, 21, 109, 12, 14, 49, 348, 71, 56, 49, 65,\n",
       "       46, 55, 285, 128, 451, 76, 103, 52, 85, 107, 15, 31, 34, 2171, 123,\n",
       "       96, 8, 61, 408, 72, 15, 411, 24, 140, 99, 18, 103, 24, 435, 32, 94,\n",
       "       51, 92, 25, 395, 32, 100, 11, 97, 19, 300, 2080, 11, 6, 85, 183, 4,\n",
       "       369, 719, 103, 66, 226, 41, 22, 216, 11, 51, 27, 24, 140, 102, 51,\n",
       "       5, 425, 89, 62, 84, 27, 33, 290, 19, 50, 2, 175, 72, 39, 93, 53,\n",
       "       245, 273, 55, 728, 94, 83, 43, 18, 35, 15, 16, 13, 21, 13, 65, 51,\n",
       "       0, 8, 104, 257, 113, 71, 398, 155, 45, 112, 21, 44, 71, 45, 25, 63,\n",
       "       117, 27, 59, 3, 92, 361, 40, 156, 155, 183, 155, 66, 366, 95, 6,\n",
       "       631, 25, 137, 48, 33, 130, 1, 116, 159, 19, 430, 64, 323, 267, 84,\n",
       "       1015, 87, 34, 60, 423, 8, 77, 87, 199, 96, 24, 12, 82, 440, 44, 11,\n",
       "       8, 322, 274, 26, 63, 15, 24, 29, 54, 185, 348, 309, 112, 85, 20,\n",
       "       23, 8, 109, 109, 124, 150, 278, 1659, 78, 14, 75, 120, 88, 66, 58,\n",
       "       2, 124, 134, 5, 231, 18, 28, 381, 45, 68, 114, 300, 60, 20, 142,\n",
       "       10, 9, 105, 8, 278, 54, 33, 30, 392, 114, 22, 16, 71, 11, 292, 185,\n",
       "       569, 20, 23, 239, 48, 254, 8, 34, 121, 86, 5, 178, 11, 308, 1266,\n",
       "       247, 361, 122, 7, 10, 81, 11, 107, 23, 21, 1, 345, 399, 837, 56,\n",
       "       40, 209, 290, 93, 26, 120, 92, 386, 69, 126, 133, 230, 14, 54, 394,\n",
       "       229, 142, 98, 21, 38, 4, 94, 82, 34, 68, 72, 11, 65, 70, 148, 195,\n",
       "       284, 28, 63, 88, 48, 131, 53, 68, 1985, 54, 501, 47, 42, 412, 237,\n",
       "       56, 65, 17, 162, 41, 36, 58, 73, 141, 149, 5, 127, 74, 89, 410,\n",
       "       103, 115, 33, 18, 1065, 26, 37, 1755, 84, 100, 50, 21, 96, 6, 35,\n",
       "       99, 112, 82, 9, 22, 14, 12, 3, 270, 71, 72, 88, 73, 256, 22, 89,\n",
       "       66, 11, 64, 43, 153, 14, 92, 81, 162, 64, 45, 53, 41, 96, 59, 63,\n",
       "       64, 6, 3, 58, 7, 9, 30, 114, 107, 92, 89, 64, 49, 44, 58, 129, 19,\n",
       "       16, 0, 115, 211, 438, 70, 116, 214, 35, 1083, 13, 80, 50, 369, 7,\n",
       "       49, 142, 47, 97, 20, 484, 19, 161, 108, 214, 26, 72, 290, 25, 32,\n",
       "       5, 191, 271, 116, 85, 19, 80, 86, 141, 185, 14, 60, 168, 89, 117,\n",
       "       6, 83, 138, 67, 91, 3, 22, 233, 4, 4, 28, 5, 403, 8, 10, 24, 38,\n",
       "       111, 126, 18, 64, 22, 46, 75, 66, 261, 22, 17, 40, 108, 161, 26,\n",
       "       27, 32, 48, 59, 70, 49, 149, 46, 24, 79, 34, 339, 30, 134, 24, 111,\n",
       "       43, 99, 22, 66, 1822, 109, 28, 39, 34, 6, 186, 82, 38, 51, 22, 45,\n",
       "       90, 30, 20, 110, 12, 120, 119, 13, 62, 32, 208, 166, 4, 53, 67,\n",
       "       104, 152, 19, 133, 24, 6, 87, 142, 17, 55, 185, 224, 912, 55, 31,\n",
       "       75, 25, 29, 94, 83, 111, 214, 75, 121, 1666, 117, 76, 83, 53, 252,\n",
       "       42, 138, 28, 117, 16, 18, 21, 219, 145, 135, 25, 17, 279, 37, 284,\n",
       "       42, 9, 355, 14, 9, 176, 0, 67, 43, 2, 68, 167, 12, 400, 92, 42, 64,\n",
       "       164], dtype=object)"
      ]
     },
     "execution_count": 12,
     "metadata": {},
     "output_type": "execute_result"
    }
   ],
   "source": [
    "y_train"
   ]
  },
  {
   "cell_type": "code",
   "execution_count": 13,
   "id": "9bd6fddb",
   "metadata": {},
   "outputs": [],
   "source": [
    "regressor=LinearRegression()"
   ]
  },
  {
   "cell_type": "code",
   "execution_count": 14,
   "id": "fc5cdc5b",
   "metadata": {},
   "outputs": [],
   "source": [
    "x_train = x_train.reshape(-1, 1)\n",
    "y_train = y_train.reshape(-1, 1)\n",
    "x_test = x_test.reshape(-1, 1)\n",
    "y_test = y_test.reshape(-1, 1)"
   ]
  },
  {
   "cell_type": "code",
   "execution_count": 15,
   "id": "5c9c414d",
   "metadata": {},
   "outputs": [
    {
     "data": {
      "text/html": [
       "<style>#sk-container-id-1 {color: black;background-color: white;}#sk-container-id-1 pre{padding: 0;}#sk-container-id-1 div.sk-toggleable {background-color: white;}#sk-container-id-1 label.sk-toggleable__label {cursor: pointer;display: block;width: 100%;margin-bottom: 0;padding: 0.3em;box-sizing: border-box;text-align: center;}#sk-container-id-1 label.sk-toggleable__label-arrow:before {content: \"▸\";float: left;margin-right: 0.25em;color: #696969;}#sk-container-id-1 label.sk-toggleable__label-arrow:hover:before {color: black;}#sk-container-id-1 div.sk-estimator:hover label.sk-toggleable__label-arrow:before {color: black;}#sk-container-id-1 div.sk-toggleable__content {max-height: 0;max-width: 0;overflow: hidden;text-align: left;background-color: #f0f8ff;}#sk-container-id-1 div.sk-toggleable__content pre {margin: 0.2em;color: black;border-radius: 0.25em;background-color: #f0f8ff;}#sk-container-id-1 input.sk-toggleable__control:checked~div.sk-toggleable__content {max-height: 200px;max-width: 100%;overflow: auto;}#sk-container-id-1 input.sk-toggleable__control:checked~label.sk-toggleable__label-arrow:before {content: \"▾\";}#sk-container-id-1 div.sk-estimator input.sk-toggleable__control:checked~label.sk-toggleable__label {background-color: #d4ebff;}#sk-container-id-1 div.sk-label input.sk-toggleable__control:checked~label.sk-toggleable__label {background-color: #d4ebff;}#sk-container-id-1 input.sk-hidden--visually {border: 0;clip: rect(1px 1px 1px 1px);clip: rect(1px, 1px, 1px, 1px);height: 1px;margin: -1px;overflow: hidden;padding: 0;position: absolute;width: 1px;}#sk-container-id-1 div.sk-estimator {font-family: monospace;background-color: #f0f8ff;border: 1px dotted black;border-radius: 0.25em;box-sizing: border-box;margin-bottom: 0.5em;}#sk-container-id-1 div.sk-estimator:hover {background-color: #d4ebff;}#sk-container-id-1 div.sk-parallel-item::after {content: \"\";width: 100%;border-bottom: 1px solid gray;flex-grow: 1;}#sk-container-id-1 div.sk-label:hover label.sk-toggleable__label {background-color: #d4ebff;}#sk-container-id-1 div.sk-serial::before {content: \"\";position: absolute;border-left: 1px solid gray;box-sizing: border-box;top: 0;bottom: 0;left: 50%;z-index: 0;}#sk-container-id-1 div.sk-serial {display: flex;flex-direction: column;align-items: center;background-color: white;padding-right: 0.2em;padding-left: 0.2em;position: relative;}#sk-container-id-1 div.sk-item {position: relative;z-index: 1;}#sk-container-id-1 div.sk-parallel {display: flex;align-items: stretch;justify-content: center;background-color: white;position: relative;}#sk-container-id-1 div.sk-item::before, #sk-container-id-1 div.sk-parallel-item::before {content: \"\";position: absolute;border-left: 1px solid gray;box-sizing: border-box;top: 0;bottom: 0;left: 50%;z-index: -1;}#sk-container-id-1 div.sk-parallel-item {display: flex;flex-direction: column;z-index: 1;position: relative;background-color: white;}#sk-container-id-1 div.sk-parallel-item:first-child::after {align-self: flex-end;width: 50%;}#sk-container-id-1 div.sk-parallel-item:last-child::after {align-self: flex-start;width: 50%;}#sk-container-id-1 div.sk-parallel-item:only-child::after {width: 0;}#sk-container-id-1 div.sk-dashed-wrapped {border: 1px dashed gray;margin: 0 0.4em 0.5em 0.4em;box-sizing: border-box;padding-bottom: 0.4em;background-color: white;}#sk-container-id-1 div.sk-label label {font-family: monospace;font-weight: bold;display: inline-block;line-height: 1.2em;}#sk-container-id-1 div.sk-label-container {text-align: center;}#sk-container-id-1 div.sk-container {/* jupyter's `normalize.less` sets `[hidden] { display: none; }` but bootstrap.min.css set `[hidden] { display: none !important; }` so we also need the `!important` here to be able to override the default hidden behavior on the sphinx rendered scikit-learn.org. See: https://github.com/scikit-learn/scikit-learn/issues/21755 */display: inline-block !important;position: relative;}#sk-container-id-1 div.sk-text-repr-fallback {display: none;}</style><div id=\"sk-container-id-1\" class=\"sk-top-container\"><div class=\"sk-text-repr-fallback\"><pre>LinearRegression()</pre><b>In a Jupyter environment, please rerun this cell to show the HTML representation or trust the notebook. <br />On GitHub, the HTML representation is unable to render, please try loading this page with nbviewer.org.</b></div><div class=\"sk-container\" hidden><div class=\"sk-item\"><div class=\"sk-estimator sk-toggleable\"><input class=\"sk-toggleable__control sk-hidden--visually\" id=\"sk-estimator-id-1\" type=\"checkbox\" checked><label for=\"sk-estimator-id-1\" class=\"sk-toggleable__label sk-toggleable__label-arrow\">LinearRegression</label><div class=\"sk-toggleable__content\"><pre>LinearRegression()</pre></div></div></div></div></div>"
      ],
      "text/plain": [
       "LinearRegression()"
      ]
     },
     "execution_count": 15,
     "metadata": {},
     "output_type": "execute_result"
    }
   ],
   "source": [
    "regressor.fit(x_train , y_train)"
   ]
  },
  {
   "cell_type": "code",
   "execution_count": 21,
   "id": "3cf1170a",
   "metadata": {},
   "outputs": [
    {
     "data": {
      "image/png": "[encoded data removed]",
      "text/plain": [
       "<Figure size 432x288 with 1 Axes>"
      ]
     },
     "metadata": {
      "needs_background": "light"
     },
     "output_type": "display_data"
    }
   ],
   "source": [
    "mp.scatter(x_train, y_train, color='blue')\n",
    "mp.plot(x_train, regressor.predict(x_train),color='red')\n",
    "mp.plot(x_train,regressor.predict(x_train),color=\"red\")\n",
    "mp.title('Baja California')\n",
    "mp.suptitle(\"Covid-19\")\n",
    "mp.ylabel('confirmados')\n",
    "mp.xlabel('días')\n",
    "#formato de la Grid \n",
    "mp.rcParams[\"axes.grid\"] = True\n",
    "mp.rcParams['grid.linestyle'] = '--'\n",
    "mp.rcParams['grid.linewidth'] = 1\n",
    "mp.rcParams[\"axes.grid.axis\"] = 'y'\n",
    "mp.rcParams[\"grid.color\"] = \"#404040\""
   ]
  }
 ],
 "metadata": {
  "kernelspec": {
   "display_name": "Python 3 (ipykernel)",
   "language": "python",
   "name": "python3"
  },
  "language_info": {
   "codemirror_mode": {
    "name": "ipython",
    "version": 3
   },
   "file_extension": ".py",
   "mimetype": "text/x-python",
   "name": "python",
   "nbconvert_exporter": "python",
   "pygments_lexer": "ipython3",
   "version": "3.10.5"
  }
 },
 "nbformat": 4,
 "nbformat_minor": 5
}
